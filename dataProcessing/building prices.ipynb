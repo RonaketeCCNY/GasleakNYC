{
 "cells": [
  {
   "cell_type": "code",
   "execution_count": 1,
   "metadata": {},
   "outputs": [],
   "source": [
    "import pandas as pd"
   ]
  },
  {
   "cell_type": "code",
   "execution_count": 37,
   "metadata": {},
   "outputs": [],
   "source": [
    "bronx13 = pd.read_excel(r'C:\\Users\\mskac\\machineLearning\\GasLeakConEd\\data\\original\\housingPrices\\2013\\2013_bronx.xls')\n",
    "bronx14 = pd.read_excel(r'C:\\Users\\mskac\\machineLearning\\GasLeakConEd\\data\\original\\housingPrices\\2014\\2014_bronx.xls')\n",
    "bronx15 = pd.read_excel(r'C:\\Users\\mskac\\machineLearning\\GasLeakConEd\\data\\original\\housingPrices\\2015\\2015_bronx.xls')\n",
    "bronx16 = pd.read_excel(r'C:\\Users\\mskac\\machineLearning\\GasLeakConEd\\data\\original\\housingPrices\\2016\\2016_bronx.xls')\n",
    "bronx17 = pd.read_excel(r'C:\\Users\\mskac\\machineLearning\\GasLeakConEd\\data\\original\\housingPrices\\2017\\2017_bronx.xls')\n",
    "bronx18 = pd.read_excel(r'C:\\Users\\mskac\\machineLearning\\GasLeakConEd\\data\\original\\housingPrices\\2018\\2018_bronx.xlsx')\n",
    "\n",
    "brooklyn13 = pd.read_excel(r'C:\\Users\\mskac\\machineLearning\\GasLeakConEd\\data\\original\\housingPrices\\2013\\2013_brooklyn.xls')\n",
    "brooklyn14 = pd.read_excel(r'C:\\Users\\mskac\\machineLearning\\GasLeakConEd\\data\\original\\housingPrices\\2014\\2014_brooklyn.xls')\n",
    "brooklyn15 = pd.read_excel(r'C:\\Users\\mskac\\machineLearning\\GasLeakConEd\\data\\original\\housingPrices\\2015\\2015_brooklyn.xls')\n",
    "brooklyn16 = pd.read_excel(r'C:\\Users\\mskac\\machineLearning\\GasLeakConEd\\data\\original\\housingPrices\\2016\\2016_brooklyn.xls')\n",
    "brooklyn17 = pd.read_excel(r'C:\\Users\\mskac\\machineLearning\\GasLeakConEd\\data\\original\\housingPrices\\2017\\2017_brooklyn.xls')\n",
    "brooklyn18 = pd.read_excel(r'C:\\Users\\mskac\\machineLearning\\GasLeakConEd\\data\\original\\housingPrices\\2018\\2018_brooklyn.xlsx')\n",
    "\n",
    "manhattan13 = pd.read_excel(r'C:\\Users\\mskac\\machineLearning\\GasLeakConEd\\data\\original\\housingPrices\\2013\\2013_manhattan.xls')\n",
    "manhattan14 = pd.read_excel(r'C:\\Users\\mskac\\machineLearning\\GasLeakConEd\\data\\original\\housingPrices\\2014\\2014_manhattan.xls')\n",
    "manhattan15 = pd.read_excel(r'C:\\Users\\mskac\\machineLearning\\GasLeakConEd\\data\\original\\housingPrices\\2015\\2015_manhattan.xls')\n",
    "manhattan16 = pd.read_excel(r'C:\\Users\\mskac\\machineLearning\\GasLeakConEd\\data\\original\\housingPrices\\2016\\2016_manhattan.xls')\n",
    "manhattan17 = pd.read_excel(r'C:\\Users\\mskac\\machineLearning\\GasLeakConEd\\data\\original\\housingPrices\\2017\\2017_manhattan.xls')\n",
    "manhattan18 = pd.read_excel(r'C:\\Users\\mskac\\machineLearning\\GasLeakConEd\\data\\original\\housingPrices\\2018\\2018_manhattan.xlsx')\n",
    "\n",
    "queens13 = pd.read_excel(r'C:\\Users\\mskac\\machineLearning\\GasLeakConEd\\data\\original\\housingPrices\\2013\\2013_queens.xls')\n",
    "queens14 = pd.read_excel(r'C:\\Users\\mskac\\machineLearning\\GasLeakConEd\\data\\original\\housingPrices\\2014\\2014_queens.xls')\n",
    "queens15 = pd.read_excel(r'C:\\Users\\mskac\\machineLearning\\GasLeakConEd\\data\\original\\housingPrices\\2015\\2015_queens.xls')\n",
    "queens16 = pd.read_excel(r'C:\\Users\\mskac\\machineLearning\\GasLeakConEd\\data\\original\\housingPrices\\2016\\2016_queens.xls')\n",
    "queens17 = pd.read_excel(r'C:\\Users\\mskac\\machineLearning\\GasLeakConEd\\data\\original\\housingPrices\\2017\\2017_queens.xls')\n",
    "queens18 = pd.read_excel(r'C:\\Users\\mskac\\machineLearning\\GasLeakConEd\\data\\original\\housingPrices\\2018\\2018_queens.xlsx')\n",
    "\n",
    "statenisland13 = pd.read_excel(r'C:\\Users\\mskac\\machineLearning\\GasLeakConEd\\data\\original\\housingPrices\\2013\\2013_statenisland.xls')\n",
    "statenisland14 = pd.read_excel(r'C:\\Users\\mskac\\machineLearning\\GasLeakConEd\\data\\original\\housingPrices\\2014\\2014_statenisland.xls')\n",
    "statenisland15 = pd.read_excel(r'C:\\Users\\mskac\\machineLearning\\GasLeakConEd\\data\\original\\housingPrices\\2015\\2015_statenisland.xls')\n",
    "statenisland16 = pd.read_excel(r'C:\\Users\\mskac\\machineLearning\\GasLeakConEd\\data\\original\\housingPrices\\2016\\2016_statenisland.xls')\n",
    "statenisland17 = pd.read_excel(r'C:\\Users\\mskac\\machineLearning\\GasLeakConEd\\data\\original\\housingPrices\\2017\\2017_statenisland.xls')\n",
    "statenisland18 = pd.read_excel(r'C:\\Users\\mskac\\machineLearning\\GasLeakConEd\\data\\original\\housingPrices\\2018\\2018_statenisland.xlsx')"
   ]
  },
  {
   "cell_type": "code",
   "execution_count": 38,
   "metadata": {},
   "outputs": [],
   "source": [
    "dfs = [bronx13, bronx14,bronx15,bronx16,bronx17,bronx18,brooklyn13,brooklyn14,brooklyn15,brooklyn16,brooklyn17, brooklyn18,\\\n",
    "      manhattan13,manhattan14,manhattan15,manhattan16,manhattan17,manhattan18,queens13,queens14,queens15,queens16,queens17,queens18,\\\n",
    "      statenisland13,statenisland14,statenisland15,statenisland16,statenisland17,statenisland18]\n",
    "df=pd.concat(dfs)"
   ]
  },
  {
   "cell_type": "code",
   "execution_count": 39,
   "metadata": {},
   "outputs": [
    {
     "data": {
      "text/plain": [
       "532355"
      ]
     },
     "execution_count": 39,
     "metadata": {},
     "output_type": "execute_result"
    }
   ],
   "source": [
    "len(df)"
   ]
  },
  {
   "cell_type": "code",
   "execution_count": 40,
   "metadata": {},
   "outputs": [
    {
     "data": {
      "text/plain": [
       "Index(['BOROUGH\\n', 'NEIGHBORHOOD\\n', 'BUILDING CLASS CATEGORY\\n',\n",
       "       'TAX CLASS AT PRESENT\\n', 'BLOCK\\n', 'LOT\\n', 'EASE-MENT\\n',\n",
       "       'BUILDING CLASS AT PRESENT\\n', 'ADDRESS\\n', 'APARTMENT NUMBER\\n',\n",
       "       'ZIP CODE\\n', 'RESIDENTIAL UNITS\\n', 'COMMERCIAL UNITS\\n',\n",
       "       'TOTAL UNITS\\n', 'LAND SQUARE FEET\\n', 'GROSS SQUARE FEET\\n',\n",
       "       'YEAR BUILT\\n', 'TAX CLASS AT TIME OF SALE\\n',\n",
       "       'BUILDING CLASS AT TIME OF SALE\\n', 'SALE PRICE\\n', 'SALE DATE\\n',\n",
       "       'TAX CLASS AS OF FINAL ROLL 17/18',\n",
       "       'BUILDING CLASS AS OF FINAL ROLL 17/18',\n",
       "       'TAX CLASS AS OF FINAL ROLL 18/19',\n",
       "       'BUILDING CLASS AS OF FINAL ROLL 18/19'],\n",
       "      dtype='object')"
      ]
     },
     "execution_count": 40,
     "metadata": {},
     "output_type": "execute_result"
    }
   ],
   "source": [
    "df.columns"
   ]
  },
  {
   "cell_type": "code",
   "execution_count": 26,
   "metadata": {},
   "outputs": [
    {
     "name": "stderr",
     "output_type": "stream",
     "text": [
      "C:\\Users\\mskac\\Anaconda3\\lib\\site-packages\\IPython\\core\\interactiveshell.py:3146: DtypeWarning: Columns (5,6,7,11,12,13,14,15,16,17,18,20,22,23,24,25,26,27,28,29,30,31,32,33,34,35,36,37,38,39,40,41,42,43,44,45,46,47,48,49,50) have mixed types.Specify dtype option on import or set low_memory=False.\n",
      "  interactivity=interactivity, compiler=compiler, result=result)\n"
     ]
    }
   ],
   "source": [
    "df = pd.read_csv(r'C:\\Users\\mskac\\machineLearning\\GasLeakConEd\\data\\original\\housingPrices\\consolidated_property_sales.csv')"
   ]
  },
  {
   "cell_type": "code",
   "execution_count": 41,
   "metadata": {},
   "outputs": [
    {
     "name": "stderr",
     "output_type": "stream",
     "text": [
      "C:\\Users\\mskac\\Anaconda3\\lib\\site-packages\\pandas\\core\\computation\\expressions.py:68: FutureWarning: elementwise comparison failed; returning scalar instead, but in the future will perform elementwise comparison\n",
      "  return op(a, b)\n",
      "C:\\Users\\mskac\\Anaconda3\\lib\\site-packages\\pandas\\core\\computation\\expressions.py:68: FutureWarning: elementwise comparison failed; returning scalar instead, but in the future will perform elementwise comparison\n",
      "  return op(a, b)\n"
     ]
    }
   ],
   "source": [
    "dff = df[(df['SALE PRICE\\n'] != '0') & (df['SALE PRICE\\n'] != '-') & (df['SALE PRICE\\n'] != 0) & (df['SALE PRICE\\n'] != None)]"
   ]
  },
  {
   "cell_type": "code",
   "execution_count": 43,
   "metadata": {},
   "outputs": [
    {
     "data": {
      "text/plain": [
       "Index(['BOROUGH\\n', 'NEIGHBORHOOD\\n', 'BUILDING CLASS CATEGORY\\n',\n",
       "       'TAX CLASS AT PRESENT\\n', 'BLOCK\\n', 'LOT\\n', 'EASE-MENT\\n',\n",
       "       'BUILDING CLASS AT PRESENT\\n', 'ADDRESS\\n', 'APARTMENT NUMBER\\n',\n",
       "       'ZIP CODE\\n', 'RESIDENTIAL UNITS\\n', 'COMMERCIAL UNITS\\n',\n",
       "       'TOTAL UNITS\\n', 'LAND SQUARE FEET\\n', 'GROSS SQUARE FEET\\n',\n",
       "       'YEAR BUILT\\n', 'TAX CLASS AT TIME OF SALE\\n',\n",
       "       'BUILDING CLASS AT TIME OF SALE\\n', 'SALE PRICE\\n', 'SALE DATE\\n',\n",
       "       'TAX CLASS AS OF FINAL ROLL 17/18',\n",
       "       'BUILDING CLASS AS OF FINAL ROLL 17/18',\n",
       "       'TAX CLASS AS OF FINAL ROLL 18/19',\n",
       "       'BUILDING CLASS AS OF FINAL ROLL 18/19'],\n",
       "      dtype='object')"
      ]
     },
     "execution_count": 43,
     "metadata": {},
     "output_type": "execute_result"
    }
   ],
   "source": [
    "dff.columns"
   ]
  },
  {
   "cell_type": "code",
   "execution_count": 44,
   "metadata": {},
   "outputs": [],
   "source": [
    "columns = ['BOROUGH\\n', 'NEIGHBORHOOD\\n', 'BUILDING CLASS CATEGORY\\n','ADDRESS\\n', 'APARTMENT NUMBER\\n','SALE PRICE\\n', 'SALE DATE\\n']"
   ]
  },
  {
   "cell_type": "code",
   "execution_count": 45,
   "metadata": {},
   "outputs": [],
   "source": [
    "dff = dff[columns]"
   ]
  },
  {
   "cell_type": "code",
   "execution_count": 46,
   "metadata": {},
   "outputs": [],
   "source": [
    "dff.to_csv(r'C:\\Users\\mskac\\machineLearning\\GasLeakConEd\\data\\original\\housingPrices\\consolidated_property_sales.csv')"
   ]
  },
  {
   "cell_type": "code",
   "execution_count": null,
   "metadata": {},
   "outputs": [],
   "source": []
  }
 ],
 "metadata": {
  "kernelspec": {
   "display_name": "Python 3",
   "language": "python",
   "name": "python3"
  },
  "language_info": {
   "codemirror_mode": {
    "name": "ipython",
    "version": 3
   },
   "file_extension": ".py",
   "mimetype": "text/x-python",
   "name": "python",
   "nbconvert_exporter": "python",
   "pygments_lexer": "ipython3",
   "version": "3.7.7"
  }
 },
 "nbformat": 4,
 "nbformat_minor": 4
}

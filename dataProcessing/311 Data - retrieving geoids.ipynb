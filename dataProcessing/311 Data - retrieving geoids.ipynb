{
 "cells": [
  {
   "cell_type": "code",
   "execution_count": 1,
   "metadata": {},
   "outputs": [],
   "source": [
    "# group all 311 data by buildings, \n",
    "# get buildings' geoid using api and shapefiles,\n",
    "# build a dictionary with key = (long, lat), and val= geoid\n",
    "# process all 311 qualifying calls using the dictionary and retreive geoid\n",
    "\n",
    "from shapely.geometry import Point, Polygon, MultiPolygon\n",
    "import geopandas as gpd\n",
    "import pandas as pd\n",
    "shapefile_directory = r'D:\\dataGasLeaks\\NYC_Census_Tracts_for_2010_US_Census-shp\\NYC_Census_Tracts_for_2010_US_Census.shp'\n",
    "shapefile = gpd.read_file(shapefile_directory)\n",
    "\n"
   ]
  },
  {
   "cell_type": "code",
   "execution_count": null,
   "metadata": {},
   "outputs": [],
   "source": [
    "dff = pd.read_csv('D://dataGasLeaks//311_Service_Requests_updated.csv')\n",
    "dff.shape\n",
    "dff['count'] = 1\n",
    "grouped_df = dff.groupby(['Created Date','Latitude', 'Longitude']).agg({'Borough': 'first', 'count': 'sum'})\n",
    "grouped2_df = grouped_df.groupby(['Latitude', 'Longitude']).agg({'Borough': 'first', 'count': 'sum'})"
   ]
  },
  {
   "cell_type": "markdown",
   "metadata": {},
   "source": [
    "## Dataframe with data from API: shorted block Fips to geoid, \n",
    "## Dataframe with data from shapefile: leftpad with zeros (6digits), find counties, create geoid"
   ]
  },
  {
   "cell_type": "code",
   "execution_count": 37,
   "metadata": {},
   "outputs": [],
   "source": [
    "df1 = pd.read_csv('D://dataGasLeaks//311_Service_Requests_part13.csv')\n",
    "df1 = df1[df1['ct'].notna()]\n",
    "df1['ct'] = df1['ct'].astype(str).str[:11]"
   ]
  },
  {
   "cell_type": "code",
   "execution_count": 82,
   "metadata": {},
   "outputs": [
    {
     "name": "stderr",
     "output_type": "stream",
     "text": [
      "C:\\Users\\mskac\\Anaconda3\\lib\\site-packages\\IPython\\core\\interactiveshell.py:3146: DtypeWarning: Columns (6,7) have mixed types.Specify dtype option on import or set low_memory=False.\n",
      "  interactivity=interactivity, compiler=compiler, result=result)\n"
     ]
    }
   ],
   "source": [
    "df2 = pd.read_csv('D://dataGasLeaks//311_Service_Requests_part9.csv')\n",
    "df2 = df2[df2['ct'].notna()]"
   ]
  },
  {
   "cell_type": "code",
   "execution_count": 6,
   "metadata": {},
   "outputs": [
    {
     "data": {
      "text/html": [
       "<div>\n",
       "<style scoped>\n",
       "    .dataframe tbody tr th:only-of-type {\n",
       "        vertical-align: middle;\n",
       "    }\n",
       "\n",
       "    .dataframe tbody tr th {\n",
       "        vertical-align: top;\n",
       "    }\n",
       "\n",
       "    .dataframe thead th {\n",
       "        text-align: right;\n",
       "    }\n",
       "</style>\n",
       "<table border=\"1\" class=\"dataframe\">\n",
       "  <thead>\n",
       "    <tr style=\"text-align: right;\">\n",
       "      <th></th>\n",
       "      <th>cartodb_id</th>\n",
       "      <th>ntacode</th>\n",
       "      <th>shape_area</th>\n",
       "      <th>ntaname</th>\n",
       "      <th>shape_leng</th>\n",
       "      <th>boro_name</th>\n",
       "      <th>puma</th>\n",
       "      <th>ct2010</th>\n",
       "      <th>boro_code</th>\n",
       "      <th>cdeligibil</th>\n",
       "      <th>boro_ct201</th>\n",
       "      <th>ctlabel</th>\n",
       "      <th>block_fips</th>\n",
       "      <th>geometry</th>\n",
       "    </tr>\n",
       "  </thead>\n",
       "  <tbody>\n",
       "    <tr>\n",
       "      <th>0</th>\n",
       "      <td>47</td>\n",
       "      <td>BK28</td>\n",
       "      <td>1216850.356</td>\n",
       "      <td>Bensonhurst West</td>\n",
       "      <td>4679.72972204</td>\n",
       "      <td>Brooklyn</td>\n",
       "      <td>4017</td>\n",
       "      <td>018600</td>\n",
       "      <td>3</td>\n",
       "      <td>I</td>\n",
       "      <td>3018600</td>\n",
       "      <td>186</td>\n",
       "      <td>360470186002001</td>\n",
       "      <td>POLYGON ((-74.00203 40.61515, -74.00261 40.614...</td>\n",
       "    </tr>\n",
       "    <tr>\n",
       "      <th>1</th>\n",
       "      <td>485</td>\n",
       "      <td>QN20</td>\n",
       "      <td>1221365.56287</td>\n",
       "      <td>Ridgewood</td>\n",
       "      <td>4479.23325647</td>\n",
       "      <td>Queens</td>\n",
       "      <td>4110</td>\n",
       "      <td>054500</td>\n",
       "      <td>4</td>\n",
       "      <td>E</td>\n",
       "      <td>4054500</td>\n",
       "      <td>545</td>\n",
       "      <td>360810545003000</td>\n",
       "      <td>POLYGON ((-73.90973 40.70547, -73.91066 40.704...</td>\n",
       "    </tr>\n",
       "    <tr>\n",
       "      <th>2</th>\n",
       "      <td>799</td>\n",
       "      <td>BX10</td>\n",
       "      <td>5709578.31711</td>\n",
       "      <td>Pelham Bay-Country Club-City Island</td>\n",
       "      <td>27385.1404928</td>\n",
       "      <td>Bronx</td>\n",
       "      <td>3703</td>\n",
       "      <td>027402</td>\n",
       "      <td>2</td>\n",
       "      <td>I</td>\n",
       "      <td>2027402</td>\n",
       "      <td>274.02</td>\n",
       "      <td>360050274021000</td>\n",
       "      <td>POLYGON ((-73.81606 40.83603, -73.81641 40.835...</td>\n",
       "    </tr>\n",
       "    <tr>\n",
       "      <th>3</th>\n",
       "      <td>892</td>\n",
       "      <td>QN45</td>\n",
       "      <td>14742052.7704</td>\n",
       "      <td>Douglas Manor-Douglaston-Little Neck</td>\n",
       "      <td>17888.3334867</td>\n",
       "      <td>Queens</td>\n",
       "      <td>4104</td>\n",
       "      <td>148300</td>\n",
       "      <td>4</td>\n",
       "      <td>I</td>\n",
       "      <td>4148300</td>\n",
       "      <td>1483</td>\n",
       "      <td>360811483004001</td>\n",
       "      <td>POLYGON ((-73.73938 40.77601, -73.73991 40.775...</td>\n",
       "    </tr>\n",
       "    <tr>\n",
       "      <th>4</th>\n",
       "      <td>1290</td>\n",
       "      <td>BK99</td>\n",
       "      <td>43216571.4155</td>\n",
       "      <td>park-cemetery-etc-Brooklyn</td>\n",
       "      <td>146017.76109</td>\n",
       "      <td>Brooklyn</td>\n",
       "      <td>4009</td>\n",
       "      <td>070203</td>\n",
       "      <td>3</td>\n",
       "      <td>I</td>\n",
       "      <td>3070203</td>\n",
       "      <td>702.03</td>\n",
       "      <td>360470702031009</td>\n",
       "      <td>MULTIPOLYGON (((-73.86706 40.58209, -73.86769 ...</td>\n",
       "    </tr>\n",
       "    <tr>\n",
       "      <th>...</th>\n",
       "      <td>...</td>\n",
       "      <td>...</td>\n",
       "      <td>...</td>\n",
       "      <td>...</td>\n",
       "      <td>...</td>\n",
       "      <td>...</td>\n",
       "      <td>...</td>\n",
       "      <td>...</td>\n",
       "      <td>...</td>\n",
       "      <td>...</td>\n",
       "      <td>...</td>\n",
       "      <td>...</td>\n",
       "      <td>...</td>\n",
       "      <td>...</td>\n",
       "    </tr>\n",
       "    <tr>\n",
       "      <th>2160</th>\n",
       "      <td>2161</td>\n",
       "      <td>BK31</td>\n",
       "      <td>2167285.24055</td>\n",
       "      <td>Bay Ridge</td>\n",
       "      <td>7827.08344987</td>\n",
       "      <td>Brooklyn</td>\n",
       "      <td>4013</td>\n",
       "      <td>014200</td>\n",
       "      <td>3</td>\n",
       "      <td>E</td>\n",
       "      <td>3014200</td>\n",
       "      <td>142</td>\n",
       "      <td>360470142001009</td>\n",
       "      <td>POLYGON ((-74.01886 40.62427, -74.01862 40.624...</td>\n",
       "    </tr>\n",
       "    <tr>\n",
       "      <th>2161</th>\n",
       "      <td>2162</td>\n",
       "      <td>QN02</td>\n",
       "      <td>11459950.8969</td>\n",
       "      <td>Springfield Gardens North</td>\n",
       "      <td>15170.1260015</td>\n",
       "      <td>Queens</td>\n",
       "      <td>4112</td>\n",
       "      <td>029400</td>\n",
       "      <td>4</td>\n",
       "      <td>I</td>\n",
       "      <td>4029400</td>\n",
       "      <td>294</td>\n",
       "      <td>360810294005003</td>\n",
       "      <td>POLYGON ((-73.77908 40.67787, -73.77862 40.677...</td>\n",
       "    </tr>\n",
       "    <tr>\n",
       "      <th>2162</th>\n",
       "      <td>2163</td>\n",
       "      <td>SI05</td>\n",
       "      <td>21980474.2562</td>\n",
       "      <td>New Springville-Bloomfield-Travis</td>\n",
       "      <td>25335.4030572</td>\n",
       "      <td>Staten Island</td>\n",
       "      <td>3902</td>\n",
       "      <td>029103</td>\n",
       "      <td>5</td>\n",
       "      <td>I</td>\n",
       "      <td>5029103</td>\n",
       "      <td>291.03</td>\n",
       "      <td>360850291032005</td>\n",
       "      <td>POLYGON ((-74.16242 40.60719, -74.16240 40.607...</td>\n",
       "    </tr>\n",
       "    <tr>\n",
       "      <th>2163</th>\n",
       "      <td>2164</td>\n",
       "      <td>QN10</td>\n",
       "      <td>4259746.83217</td>\n",
       "      <td>Breezy Point-Belle Harbor-Rockaway Park-Broad ...</td>\n",
       "      <td>9431.75241279</td>\n",
       "      <td>Queens</td>\n",
       "      <td>4114</td>\n",
       "      <td>093402</td>\n",
       "      <td>4</td>\n",
       "      <td>I</td>\n",
       "      <td>4093402</td>\n",
       "      <td>934.02</td>\n",
       "      <td>360810934021003</td>\n",
       "      <td>POLYGON ((-73.83542 40.57696, -73.83576 40.576...</td>\n",
       "    </tr>\n",
       "    <tr>\n",
       "      <th>2164</th>\n",
       "      <td>2165</td>\n",
       "      <td>QN10</td>\n",
       "      <td>8701187.85409</td>\n",
       "      <td>Breezy Point-Belle Harbor-Rockaway Park-Broad ...</td>\n",
       "      <td>13397.5589778</td>\n",
       "      <td>Queens</td>\n",
       "      <td>4114</td>\n",
       "      <td>093800</td>\n",
       "      <td>4</td>\n",
       "      <td>E</td>\n",
       "      <td>4093800</td>\n",
       "      <td>938</td>\n",
       "      <td>360810938003009</td>\n",
       "      <td>POLYGON ((-73.82134 40.58126, -73.82195 40.581...</td>\n",
       "    </tr>\n",
       "  </tbody>\n",
       "</table>\n",
       "<p>2165 rows × 14 columns</p>\n",
       "</div>"
      ],
      "text/plain": [
       "      cartodb_id ntacode     shape_area  \\\n",
       "0             47    BK28    1216850.356   \n",
       "1            485    QN20  1221365.56287   \n",
       "2            799    BX10  5709578.31711   \n",
       "3            892    QN45  14742052.7704   \n",
       "4           1290    BK99  43216571.4155   \n",
       "...          ...     ...            ...   \n",
       "2160        2161    BK31  2167285.24055   \n",
       "2161        2162    QN02  11459950.8969   \n",
       "2162        2163    SI05  21980474.2562   \n",
       "2163        2164    QN10  4259746.83217   \n",
       "2164        2165    QN10  8701187.85409   \n",
       "\n",
       "                                                ntaname     shape_leng  \\\n",
       "0                                      Bensonhurst West  4679.72972204   \n",
       "1                                             Ridgewood  4479.23325647   \n",
       "2                   Pelham Bay-Country Club-City Island  27385.1404928   \n",
       "3                  Douglas Manor-Douglaston-Little Neck  17888.3334867   \n",
       "4                            park-cemetery-etc-Brooklyn   146017.76109   \n",
       "...                                                 ...            ...   \n",
       "2160                                          Bay Ridge  7827.08344987   \n",
       "2161                          Springfield Gardens North  15170.1260015   \n",
       "2162                  New Springville-Bloomfield-Travis  25335.4030572   \n",
       "2163  Breezy Point-Belle Harbor-Rockaway Park-Broad ...  9431.75241279   \n",
       "2164  Breezy Point-Belle Harbor-Rockaway Park-Broad ...  13397.5589778   \n",
       "\n",
       "          boro_name  puma  ct2010 boro_code cdeligibil boro_ct201 ctlabel  \\\n",
       "0          Brooklyn  4017  018600         3          I    3018600     186   \n",
       "1            Queens  4110  054500         4          E    4054500     545   \n",
       "2             Bronx  3703  027402         2          I    2027402  274.02   \n",
       "3            Queens  4104  148300         4          I    4148300    1483   \n",
       "4          Brooklyn  4009  070203         3          I    3070203  702.03   \n",
       "...             ...   ...     ...       ...        ...        ...     ...   \n",
       "2160       Brooklyn  4013  014200         3          E    3014200     142   \n",
       "2161         Queens  4112  029400         4          I    4029400     294   \n",
       "2162  Staten Island  3902  029103         5          I    5029103  291.03   \n",
       "2163         Queens  4114  093402         4          I    4093402  934.02   \n",
       "2164         Queens  4114  093800         4          E    4093800     938   \n",
       "\n",
       "           block_fips                                           geometry  \n",
       "0     360470186002001  POLYGON ((-74.00203 40.61515, -74.00261 40.614...  \n",
       "1     360810545003000  POLYGON ((-73.90973 40.70547, -73.91066 40.704...  \n",
       "2     360050274021000  POLYGON ((-73.81606 40.83603, -73.81641 40.835...  \n",
       "3     360811483004001  POLYGON ((-73.73938 40.77601, -73.73991 40.775...  \n",
       "4     360470702031009  MULTIPOLYGON (((-73.86706 40.58209, -73.86769 ...  \n",
       "...               ...                                                ...  \n",
       "2160  360470142001009  POLYGON ((-74.01886 40.62427, -74.01862 40.624...  \n",
       "2161  360810294005003  POLYGON ((-73.77908 40.67787, -73.77862 40.677...  \n",
       "2162  360850291032005  POLYGON ((-74.16242 40.60719, -74.16240 40.607...  \n",
       "2163  360810934021003  POLYGON ((-73.83542 40.57696, -73.83576 40.576...  \n",
       "2164  360810938003009  POLYGON ((-73.82134 40.58126, -73.82195 40.581...  \n",
       "\n",
       "[2165 rows x 14 columns]"
      ]
     },
     "execution_count": 6,
     "metadata": {},
     "output_type": "execute_result"
    }
   ],
   "source": [
    "from shapely.geometry import Point, Polygon, MultiPolygon\n",
    "import geopandas as gpd\n",
    "import pandas as pd\n",
    "\n",
    "shapefile_directory = r'D:\\dataGasLeaks\\table_2010_census_tracts_with_geoid\\table_2010_census_tracts_with_geoid.shp'\n",
    "shapefile = gpd.read_file(shapefile_directory)\n",
    "shapefile"
   ]
  },
  {
   "cell_type": "code",
   "execution_count": 3,
   "metadata": {},
   "outputs": [
    {
     "data": {
      "text/plain": [
       "Index(['cartodb_id', 'ntacode', 'shape_area', 'ntaname', 'shape_leng',\n",
       "       'boro_name', 'puma', 'ct2010', 'boro_code', 'cdeligibil', 'boro_ct201',\n",
       "       'ctlabel', 'block_fips', 'geometry'],\n",
       "      dtype='object')"
      ]
     },
     "execution_count": 3,
     "metadata": {},
     "output_type": "execute_result"
    }
   ],
   "source": [
    "shapefile.columns"
   ]
  },
  {
   "cell_type": "code",
   "execution_count": 4,
   "metadata": {},
   "outputs": [
    {
     "data": {
      "text/plain": [
       "0       BK28\n",
       "1       QN20\n",
       "2       BX10\n",
       "3       QN45\n",
       "4       BK99\n",
       "        ... \n",
       "2160    BK31\n",
       "2161    QN02\n",
       "2162    SI05\n",
       "2163    QN10\n",
       "2164    QN10\n",
       "Name: ntacode, Length: 2165, dtype: object"
      ]
     },
     "execution_count": 4,
     "metadata": {},
     "output_type": "execute_result"
    }
   ],
   "source": [
    "shapefile.ntacode"
   ]
  },
  {
   "cell_type": "code",
   "execution_count": 126,
   "metadata": {},
   "outputs": [],
   "source": [
    "# df2 - dataset where each row contains lat and long of a building\n",
    "for ind, row in df2.iterrows():\n",
    "    # for each building create a point (imported from shapely.geometry)\n",
    "    p = Point(row['Longitude'], row['Latitude'])\n",
    "    \n",
    "    for ind_shape, shape in shapefile.iterrows():\n",
    "        # check if the point belongs to a geometry of a current row in a shapefile\n",
    "        if p.within(shape['geometry']):\n",
    "            df2.at[ind, 'ct'] = str(shape['block_fips'])\n",
    "            break"
   ]
  },
  {
   "cell_type": "code",
   "execution_count": 129,
   "metadata": {},
   "outputs": [],
   "source": [
    "df = pd.concat([df1, df2[:200000], df2[500000:]])"
   ]
  },
  {
   "cell_type": "code",
   "execution_count": 130,
   "metadata": {},
   "outputs": [],
   "source": [
    "df.to_csv(r'D:\\dataGasLeaks\\part1_ready.csv')"
   ]
  },
  {
   "cell_type": "code",
   "execution_count": null,
   "metadata": {},
   "outputs": [],
   "source": []
  },
  {
   "cell_type": "code",
   "execution_count": null,
   "metadata": {},
   "outputs": [],
   "source": []
  },
  {
   "cell_type": "markdown",
   "metadata": {},
   "source": [
    "# Include 311 complaints into data"
   ]
  },
  {
   "cell_type": "code",
   "execution_count": 202,
   "metadata": {},
   "outputs": [],
   "source": [
    "df = pd.read_csv(r'D:\\dataGasLeaks\\final_311_data.csv')\n",
    "df_original = pd.read_csv(r'C:\\Users\\mskac\\machineLearning\\GasLeakConEd\\data\\processed\\important_(used_in_app)\\Merged_asc_fdny_data.csv')"
   ]
  },
  {
   "cell_type": "code",
   "execution_count": 203,
   "metadata": {},
   "outputs": [],
   "source": [
    "df = df.rename(columns={'year': 'incident_year', 'count': '311complaints'})\n",
    "df = df.groupby(['geoid', 'incident_year']).agg({'311complaints': 'sum'})\n",
    "\n",
    "df_new = pd.merge(df_original, df, on=['geoid','incident_year'], how='left')\n",
    "df_new['population'] = df_new['gas_leaks']/df_new['gas_leaks_per_person']"
   ]
  },
  {
   "cell_type": "code",
   "execution_count": 215,
   "metadata": {},
   "outputs": [],
   "source": [
    "df_new['311compl_per_person'] = df_new['311complaints']/df_new['population']\n",
    "df_new.drop(['Unnamed: 0', '311complaints','population'], axis = 1, inplace = True)"
   ]
  },
  {
   "cell_type": "code",
   "execution_count": 217,
   "metadata": {},
   "outputs": [],
   "source": [
    "df_new.to_csv(r'C:\\Users\\mskac\\machineLearning\\GasLeakConEd\\data\\processed\\important_(used_in_app)\\Merged_asc_fdny_data1.csv')"
   ]
  },
  {
   "cell_type": "markdown",
   "metadata": {},
   "source": [
    "## All years data"
   ]
  },
  {
   "cell_type": "code",
   "execution_count": 231,
   "metadata": {},
   "outputs": [],
   "source": [
    "df = pd.read_csv(r'D:\\dataGasLeaks\\final_311_data.csv')\n",
    "df_original = pd.read_csv(r'C:\\Users\\mskac\\machineLearning\\GasLeakConEd\\data\\processed\\important_(used_in_app)\\Merged_asc_fdny_data.csv')\n",
    "df_goal = pd.read_csv(r'C:\\Users\\mskac\\machineLearning\\GasLeakConEd\\data\\processed\\important_(used_in_app)\\Merged_asc_fdny_data_all_years.csv')"
   ]
  },
  {
   "cell_type": "code",
   "execution_count": 233,
   "metadata": {},
   "outputs": [],
   "source": [
    "df_original['population'] = df_original['gas_leaks']/df_original['gas_leaks_per_person']\n",
    "df_original = df_original.groupby('geoid').agg({'population': 'sum'})"
   ]
  },
  {
   "cell_type": "code",
   "execution_count": 234,
   "metadata": {},
   "outputs": [],
   "source": [
    "df = df.groupby('geoid').agg({'count': 'sum'})\n",
    "\n",
    "df_new = pd.merge(df_original, df, on=['geoid'], how='left')\n",
    "df_new['311compl_per_person'] = df_new['count']/df_new['population']"
   ]
  },
  {
   "cell_type": "code",
   "execution_count": 235,
   "metadata": {},
   "outputs": [
    {
     "data": {
      "text/plain": [
       "Index(['geoid', 'population', 'count', '311compl_per_person'], dtype='object')"
      ]
     },
     "execution_count": 235,
     "metadata": {},
     "output_type": "execute_result"
    }
   ],
   "source": [
    "df_new = df_new.reset_index()\n",
    "df_new.columns"
   ]
  },
  {
   "cell_type": "code",
   "execution_count": 236,
   "metadata": {},
   "outputs": [
    {
     "data": {
      "text/html": [
       "<div>\n",
       "<style scoped>\n",
       "    .dataframe tbody tr th:only-of-type {\n",
       "        vertical-align: middle;\n",
       "    }\n",
       "\n",
       "    .dataframe tbody tr th {\n",
       "        vertical-align: top;\n",
       "    }\n",
       "\n",
       "    .dataframe thead th {\n",
       "        text-align: right;\n",
       "    }\n",
       "</style>\n",
       "<table border=\"1\" class=\"dataframe\">\n",
       "  <thead>\n",
       "    <tr style=\"text-align: right;\">\n",
       "      <th></th>\n",
       "      <th>geoid</th>\n",
       "      <th>311compl_per_person</th>\n",
       "    </tr>\n",
       "  </thead>\n",
       "  <tbody>\n",
       "    <tr>\n",
       "      <th>0</th>\n",
       "      <td>36005000200</td>\n",
       "      <td>0.261595</td>\n",
       "    </tr>\n",
       "    <tr>\n",
       "      <th>1</th>\n",
       "      <td>36005000400</td>\n",
       "      <td>0.191689</td>\n",
       "    </tr>\n",
       "    <tr>\n",
       "      <th>2</th>\n",
       "      <td>36005001600</td>\n",
       "      <td>0.145979</td>\n",
       "    </tr>\n",
       "    <tr>\n",
       "      <th>3</th>\n",
       "      <td>36005001900</td>\n",
       "      <td>0.644376</td>\n",
       "    </tr>\n",
       "    <tr>\n",
       "      <th>4</th>\n",
       "      <td>36005002000</td>\n",
       "      <td>0.141996</td>\n",
       "    </tr>\n",
       "  </tbody>\n",
       "</table>\n",
       "</div>"
      ],
      "text/plain": [
       "         geoid  311compl_per_person\n",
       "0  36005000200             0.261595\n",
       "1  36005000400             0.191689\n",
       "2  36005001600             0.145979\n",
       "3  36005001900             0.644376\n",
       "4  36005002000             0.141996"
      ]
     },
     "execution_count": 236,
     "metadata": {},
     "output_type": "execute_result"
    }
   ],
   "source": [
    "df_new.drop(['count','population'], axis = 1, inplace = True)\n",
    "df_new.head()"
   ]
  },
  {
   "cell_type": "code",
   "execution_count": 237,
   "metadata": {},
   "outputs": [
    {
     "data": {
      "text/html": [
       "<div>\n",
       "<style scoped>\n",
       "    .dataframe tbody tr th:only-of-type {\n",
       "        vertical-align: middle;\n",
       "    }\n",
       "\n",
       "    .dataframe tbody tr th {\n",
       "        vertical-align: top;\n",
       "    }\n",
       "\n",
       "    .dataframe thead th {\n",
       "        text-align: right;\n",
       "    }\n",
       "</style>\n",
       "<table border=\"1\" class=\"dataframe\">\n",
       "  <thead>\n",
       "    <tr style=\"text-align: right;\">\n",
       "      <th></th>\n",
       "      <th>Unnamed: 0</th>\n",
       "      <th>%housh_grandp_resp_for_grandch</th>\n",
       "      <th>avg_houshold_size</th>\n",
       "      <th>avg_bldg_age</th>\n",
       "      <th>gas_leaks</th>\n",
       "      <th>gas_leaks_per_person</th>\n",
       "      <th>geoid</th>\n",
       "      <th>lonely_housholder%</th>\n",
       "      <th>lonely_housholder_over65%</th>\n",
       "      <th>mean_houshold_income</th>\n",
       "      <th>median_age</th>\n",
       "      <th>nonfamily_housholds%</th>\n",
       "      <th>not_us_citizen%</th>\n",
       "      <th>total_housing_units</th>\n",
       "      <th>unemployed%</th>\n",
       "      <th>vacant_housing_units%</th>\n",
       "      <th>311compl_per_person</th>\n",
       "    </tr>\n",
       "  </thead>\n",
       "  <tbody>\n",
       "    <tr>\n",
       "      <th>0</th>\n",
       "      <td>0</td>\n",
       "      <td>5.553494</td>\n",
       "      <td>3.730000</td>\n",
       "      <td>63.858957</td>\n",
       "      <td>38</td>\n",
       "      <td>0.001258</td>\n",
       "      <td>36005000200</td>\n",
       "      <td>17.439703</td>\n",
       "      <td>8.188002</td>\n",
       "      <td>75457.16667</td>\n",
       "      <td>38.300000</td>\n",
       "      <td>20.519481</td>\n",
       "      <td>13.337968</td>\n",
       "      <td>8880</td>\n",
       "      <td>4.217565</td>\n",
       "      <td>8.952703</td>\n",
       "      <td>0.261595</td>\n",
       "    </tr>\n",
       "    <tr>\n",
       "      <th>1</th>\n",
       "      <td>1</td>\n",
       "      <td>1.970487</td>\n",
       "      <td>3.031667</td>\n",
       "      <td>52.749939</td>\n",
       "      <td>49</td>\n",
       "      <td>0.001425</td>\n",
       "      <td>36005000400</td>\n",
       "      <td>16.311743</td>\n",
       "      <td>5.876116</td>\n",
       "      <td>85459.33333</td>\n",
       "      <td>38.016667</td>\n",
       "      <td>21.525139</td>\n",
       "      <td>7.444241</td>\n",
       "      <td>12399</td>\n",
       "      <td>3.986740</td>\n",
       "      <td>8.726510</td>\n",
       "      <td>0.191689</td>\n",
       "    </tr>\n",
       "    <tr>\n",
       "      <th>2</th>\n",
       "      <td>2</td>\n",
       "      <td>0.826587</td>\n",
       "      <td>2.815000</td>\n",
       "      <td>56.219298</td>\n",
       "      <td>99</td>\n",
       "      <td>0.002862</td>\n",
       "      <td>36005001600</td>\n",
       "      <td>27.158074</td>\n",
       "      <td>13.583298</td>\n",
       "      <td>47136.66667</td>\n",
       "      <td>37.466667</td>\n",
       "      <td>27.942054</td>\n",
       "      <td>16.517315</td>\n",
       "      <td>12290</td>\n",
       "      <td>3.173961</td>\n",
       "      <td>4.515867</td>\n",
       "      <td>0.145979</td>\n",
       "    </tr>\n",
       "    <tr>\n",
       "      <th>3</th>\n",
       "      <td>3</td>\n",
       "      <td>2.451161</td>\n",
       "      <td>2.425000</td>\n",
       "      <td>83.272222</td>\n",
       "      <td>38</td>\n",
       "      <td>0.002377</td>\n",
       "      <td>36005001900</td>\n",
       "      <td>37.670475</td>\n",
       "      <td>1.787689</td>\n",
       "      <td>47365.33333</td>\n",
       "      <td>31.333333</td>\n",
       "      <td>47.806856</td>\n",
       "      <td>15.832604</td>\n",
       "      <td>5763</td>\n",
       "      <td>8.438634</td>\n",
       "      <td>5.847649</td>\n",
       "      <td>0.644376</td>\n",
       "    </tr>\n",
       "    <tr>\n",
       "      <th>4</th>\n",
       "      <td>4</td>\n",
       "      <td>4.998347</td>\n",
       "      <td>2.981667</td>\n",
       "      <td>75.921555</td>\n",
       "      <td>314</td>\n",
       "      <td>0.005806</td>\n",
       "      <td>36005002000</td>\n",
       "      <td>29.499614</td>\n",
       "      <td>13.126860</td>\n",
       "      <td>34932.00000</td>\n",
       "      <td>33.416667</td>\n",
       "      <td>30.342775</td>\n",
       "      <td>9.354833</td>\n",
       "      <td>19106</td>\n",
       "      <td>5.571479</td>\n",
       "      <td>5.024600</td>\n",
       "      <td>0.141996</td>\n",
       "    </tr>\n",
       "    <tr>\n",
       "      <th>...</th>\n",
       "      <td>...</td>\n",
       "      <td>...</td>\n",
       "      <td>...</td>\n",
       "      <td>...</td>\n",
       "      <td>...</td>\n",
       "      <td>...</td>\n",
       "      <td>...</td>\n",
       "      <td>...</td>\n",
       "      <td>...</td>\n",
       "      <td>...</td>\n",
       "      <td>...</td>\n",
       "      <td>...</td>\n",
       "      <td>...</td>\n",
       "      <td>...</td>\n",
       "      <td>...</td>\n",
       "      <td>...</td>\n",
       "      <td>...</td>\n",
       "    </tr>\n",
       "    <tr>\n",
       "      <th>2046</th>\n",
       "      <td>2046</td>\n",
       "      <td>0.898835</td>\n",
       "      <td>2.738333</td>\n",
       "      <td>46.795396</td>\n",
       "      <td>46</td>\n",
       "      <td>0.001538</td>\n",
       "      <td>36085030301</td>\n",
       "      <td>28.313308</td>\n",
       "      <td>9.933046</td>\n",
       "      <td>77313.50000</td>\n",
       "      <td>35.233333</td>\n",
       "      <td>32.844171</td>\n",
       "      <td>8.059123</td>\n",
       "      <td>11350</td>\n",
       "      <td>3.501204</td>\n",
       "      <td>3.938326</td>\n",
       "      <td>0.158608</td>\n",
       "    </tr>\n",
       "    <tr>\n",
       "      <th>2047</th>\n",
       "      <td>2047</td>\n",
       "      <td>1.448905</td>\n",
       "      <td>3.231667</td>\n",
       "      <td>34.557914</td>\n",
       "      <td>38</td>\n",
       "      <td>0.001002</td>\n",
       "      <td>36085030302</td>\n",
       "      <td>13.219126</td>\n",
       "      <td>4.321145</td>\n",
       "      <td>85669.83333</td>\n",
       "      <td>35.483333</td>\n",
       "      <td>16.372624</td>\n",
       "      <td>13.835732</td>\n",
       "      <td>12509</td>\n",
       "      <td>2.778217</td>\n",
       "      <td>6.203533</td>\n",
       "      <td>0.178475</td>\n",
       "    </tr>\n",
       "    <tr>\n",
       "      <th>2048</th>\n",
       "      <td>2048</td>\n",
       "      <td>2.962029</td>\n",
       "      <td>2.600000</td>\n",
       "      <td>43.612317</td>\n",
       "      <td>97</td>\n",
       "      <td>0.005873</td>\n",
       "      <td>36085031901</td>\n",
       "      <td>24.452497</td>\n",
       "      <td>15.976052</td>\n",
       "      <td>35690.00000</td>\n",
       "      <td>30.050000</td>\n",
       "      <td>24.452497</td>\n",
       "      <td>9.676052</td>\n",
       "      <td>7213</td>\n",
       "      <td>3.645171</td>\n",
       "      <td>12.006100</td>\n",
       "      <td>0.189949</td>\n",
       "    </tr>\n",
       "    <tr>\n",
       "      <th>2049</th>\n",
       "      <td>2049</td>\n",
       "      <td>2.276439</td>\n",
       "      <td>2.886667</td>\n",
       "      <td>56.334072</td>\n",
       "      <td>22</td>\n",
       "      <td>0.000774</td>\n",
       "      <td>36085031902</td>\n",
       "      <td>21.355655</td>\n",
       "      <td>6.900776</td>\n",
       "      <td>54850.66667</td>\n",
       "      <td>28.733333</td>\n",
       "      <td>24.938751</td>\n",
       "      <td>9.278024</td>\n",
       "      <td>11354</td>\n",
       "      <td>2.469918</td>\n",
       "      <td>13.722036</td>\n",
       "      <td>0.280100</td>\n",
       "    </tr>\n",
       "    <tr>\n",
       "      <th>2050</th>\n",
       "      <td>2050</td>\n",
       "      <td>0.424328</td>\n",
       "      <td>2.431667</td>\n",
       "      <td>43.905085</td>\n",
       "      <td>36</td>\n",
       "      <td>0.005245</td>\n",
       "      <td>36085032300</td>\n",
       "      <td>25.459689</td>\n",
       "      <td>5.940594</td>\n",
       "      <td>75596.83333</td>\n",
       "      <td>41.650000</td>\n",
       "      <td>27.899576</td>\n",
       "      <td>10.868298</td>\n",
       "      <td>3091</td>\n",
       "      <td>3.802448</td>\n",
       "      <td>8.508573</td>\n",
       "      <td>0.396562</td>\n",
       "    </tr>\n",
       "  </tbody>\n",
       "</table>\n",
       "<p>2051 rows × 17 columns</p>\n",
       "</div>"
      ],
      "text/plain": [
       "      Unnamed: 0  %housh_grandp_resp_for_grandch  avg_houshold_size  \\\n",
       "0              0                        5.553494           3.730000   \n",
       "1              1                        1.970487           3.031667   \n",
       "2              2                        0.826587           2.815000   \n",
       "3              3                        2.451161           2.425000   \n",
       "4              4                        4.998347           2.981667   \n",
       "...          ...                             ...                ...   \n",
       "2046        2046                        0.898835           2.738333   \n",
       "2047        2047                        1.448905           3.231667   \n",
       "2048        2048                        2.962029           2.600000   \n",
       "2049        2049                        2.276439           2.886667   \n",
       "2050        2050                        0.424328           2.431667   \n",
       "\n",
       "      avg_bldg_age  gas_leaks  gas_leaks_per_person        geoid  \\\n",
       "0        63.858957         38              0.001258  36005000200   \n",
       "1        52.749939         49              0.001425  36005000400   \n",
       "2        56.219298         99              0.002862  36005001600   \n",
       "3        83.272222         38              0.002377  36005001900   \n",
       "4        75.921555        314              0.005806  36005002000   \n",
       "...            ...        ...                   ...          ...   \n",
       "2046     46.795396         46              0.001538  36085030301   \n",
       "2047     34.557914         38              0.001002  36085030302   \n",
       "2048     43.612317         97              0.005873  36085031901   \n",
       "2049     56.334072         22              0.000774  36085031902   \n",
       "2050     43.905085         36              0.005245  36085032300   \n",
       "\n",
       "      lonely_housholder%  lonely_housholder_over65%  mean_houshold_income  \\\n",
       "0              17.439703                   8.188002           75457.16667   \n",
       "1              16.311743                   5.876116           85459.33333   \n",
       "2              27.158074                  13.583298           47136.66667   \n",
       "3              37.670475                   1.787689           47365.33333   \n",
       "4              29.499614                  13.126860           34932.00000   \n",
       "...                  ...                        ...                   ...   \n",
       "2046           28.313308                   9.933046           77313.50000   \n",
       "2047           13.219126                   4.321145           85669.83333   \n",
       "2048           24.452497                  15.976052           35690.00000   \n",
       "2049           21.355655                   6.900776           54850.66667   \n",
       "2050           25.459689                   5.940594           75596.83333   \n",
       "\n",
       "      median_age  nonfamily_housholds%  not_us_citizen%  total_housing_units  \\\n",
       "0      38.300000             20.519481        13.337968                 8880   \n",
       "1      38.016667             21.525139         7.444241                12399   \n",
       "2      37.466667             27.942054        16.517315                12290   \n",
       "3      31.333333             47.806856        15.832604                 5763   \n",
       "4      33.416667             30.342775         9.354833                19106   \n",
       "...          ...                   ...              ...                  ...   \n",
       "2046   35.233333             32.844171         8.059123                11350   \n",
       "2047   35.483333             16.372624        13.835732                12509   \n",
       "2048   30.050000             24.452497         9.676052                 7213   \n",
       "2049   28.733333             24.938751         9.278024                11354   \n",
       "2050   41.650000             27.899576        10.868298                 3091   \n",
       "\n",
       "      unemployed%  vacant_housing_units%  311compl_per_person  \n",
       "0        4.217565               8.952703             0.261595  \n",
       "1        3.986740               8.726510             0.191689  \n",
       "2        3.173961               4.515867             0.145979  \n",
       "3        8.438634               5.847649             0.644376  \n",
       "4        5.571479               5.024600             0.141996  \n",
       "...           ...                    ...                  ...  \n",
       "2046     3.501204               3.938326             0.158608  \n",
       "2047     2.778217               6.203533             0.178475  \n",
       "2048     3.645171              12.006100             0.189949  \n",
       "2049     2.469918              13.722036             0.280100  \n",
       "2050     3.802448               8.508573             0.396562  \n",
       "\n",
       "[2051 rows x 17 columns]"
      ]
     },
     "execution_count": 237,
     "metadata": {},
     "output_type": "execute_result"
    }
   ],
   "source": [
    "df_goal = pd.merge(df_goal, df_new, on=['geoid'], how='left')\n",
    "df_goal"
   ]
  },
  {
   "cell_type": "code",
   "execution_count": 239,
   "metadata": {},
   "outputs": [],
   "source": [
    "df_goal.to_csv(r'C:\\Users\\mskac\\machineLearning\\GasLeakConEd\\data\\processed\\important_(used_in_app)\\Merged_asc_fdny_data_all_years1.csv')"
   ]
  },
  {
   "cell_type": "code",
   "execution_count": 247,
   "metadata": {},
   "outputs": [
    {
     "data": {
      "text/plain": [
       "type                                        FeatureCollection\n",
       "features    {'type': 'Feature', 'properties': {'ntacode': ...\n",
       "Name: 0, dtype: object"
      ]
     },
     "execution_count": 247,
     "metadata": {},
     "output_type": "execute_result"
    }
   ],
   "source": []
  },
  {
   "cell_type": "code",
   "execution_count": null,
   "metadata": {},
   "outputs": [],
   "source": []
  },
  {
   "cell_type": "code",
   "execution_count": null,
   "metadata": {},
   "outputs": [],
   "source": [
    "geojson = pd.read_json(r'C:\\Users\\mskac\\machineLearning\\GasLeakConEd\\data\\processed\\2010 Census Tracts with geoid.geojson')\n",
    "geojson.iloc[0]"
   ]
  },
  {
   "cell_type": "code",
   "execution_count": 248,
   "metadata": {},
   "outputs": [
    {
     "data": {
      "text/plain": [
       "{'type': 'Feature',\n",
       " 'properties': {'ntacode': 'SI22',\n",
       "  'shape_area': '2497009.71359',\n",
       "  'ntaname': 'West New Brighton-New Brighton-St. George',\n",
       "  'shape_leng': '7729.01679383',\n",
       "  'boro_name': 'Staten Island',\n",
       "  'puma': '3903',\n",
       "  'ct2010': '000900',\n",
       "  'boro_code': '5',\n",
       "  'cdeligibil': 'E',\n",
       "  'boro_ct2010': '5000900',\n",
       "  'ctlabel': '9',\n",
       "  'block_fips': '360850009001003'},\n",
       " 'geometry': {'type': 'MultiPolygon',\n",
       "  'coordinates': [[[[-74.07920577013245, 40.64343078374567],\n",
       "     [-74.07913504647637, 40.64333789954809],\n",
       "     [-74.07819773831595, 40.64211481672276],\n",
       "     [-74.07884632409665, 40.641995568528166],\n",
       "     [-74.0791223401088, 40.64194431928626],\n",
       "     [-74.07965266950632, 40.641855351552806],\n",
       "     [-74.08055489346589, 40.64169150377349],\n",
       "     [-74.08148001617707, 40.64155046162583],\n",
       "     [-74.08130714145031, 40.64074191709323],\n",
       "     [-74.08110049694088, 40.639922825339106],\n",
       "     [-74.08191207797016, 40.6398059117602],\n",
       "     [-74.08194326513642, 40.63993327788856],\n",
       "     [-74.0820464807701, 40.640338526958104],\n",
       "     [-74.08228199570526, 40.640600896453016],\n",
       "     [-74.08503312179074, 40.64019785806871],\n",
       "     [-74.0872057798552, 40.639895367647135],\n",
       "     [-74.08709163679771, 40.64033437636213],\n",
       "     [-74.08701899114665, 40.640613790850445],\n",
       "     [-74.08682767812078, 40.64133802397936],\n",
       "     [-74.08667746827268, 40.64190963327233],\n",
       "     [-74.08652380457303, 40.64256408357222],\n",
       "     [-74.08575006381034, 40.642846120676055],\n",
       "     [-74.08496857468032, 40.643130075816266],\n",
       "     [-74.08414352403344, 40.64343089730628],\n",
       "     [-74.0820726845645, 40.64420760543788],\n",
       "     [-74.08237118148979, 40.64464507998435],\n",
       "     [-74.08028198256949, 40.64479321566102],\n",
       "     [-74.07920577013245, 40.64343078374567]]]]}}"
      ]
     },
     "execution_count": 248,
     "metadata": {},
     "output_type": "execute_result"
    }
   ],
   "source": [
    "geojson.iloc[0]['features']"
   ]
  },
  {
   "cell_type": "code",
   "execution_count": 251,
   "metadata": {},
   "outputs": [],
   "source": [
    "import codecs\n",
    "with codecs.open(\"C:/Users/mskac/machineLearning/GasLeakConEd/data/processed/2010 Census Tracts with geoid.geojson\", 'r', 'utf8') as data_file:    \n",
    "    data = json.load(data_file)\n",
    "for element in data['features']:\n",
    "    element['properties']['geoid'] = element['properties']['block_fips'][:11]  \n",
    "\n",
    "with open('C:/Users/mskac/machineLearning/GasLeakConEd/data/processed/CT_shapes_with_geoids.geojson', 'w') as fp:\n",
    "    json.dump(data, fp)"
   ]
  },
  {
   "cell_type": "code",
   "execution_count": null,
   "metadata": {},
   "outputs": [],
   "source": []
  },
  {
   "cell_type": "code",
   "execution_count": 2,
   "metadata": {},
   "outputs": [],
   "source": [
    "import pandas as pd\n",
    "import json\n",
    "import requests\n",
    "from urllib.request import urlopen\n",
    "import csv\n",
    "\n",
    "key = '05fcc51d368d71bce9d7627d3097d978'\n",
    "projectId = '82d5e815'"
   ]
  },
  {
   "cell_type": "code",
   "execution_count": 3,
   "metadata": {},
   "outputs": [
    {
     "name": "stderr",
     "output_type": "stream",
     "text": [
      "C:\\Users\\mskac\\Anaconda3\\lib\\site-packages\\IPython\\core\\interactiveshell.py:3146: DtypeWarning: Columns (2) have mixed types.Specify dtype option on import or set low_memory=False.\n",
      "  interactivity=interactivity, compiler=compiler, result=result)\n"
     ]
    },
    {
     "data": {
      "text/plain": [
       "798452"
      ]
     },
     "execution_count": 3,
     "metadata": {},
     "output_type": "execute_result"
    }
   ],
   "source": [
    "nodata = pd.read_csv(r'D:\\dataGasLeaks\\not_finished.csv')\n",
    "len(nodata)"
   ]
  },
  {
   "cell_type": "code",
   "execution_count": 36,
   "metadata": {},
   "outputs": [],
   "source": [
    "nodata = nodata[nodata['geoid'].notna()]"
   ]
  },
  {
   "cell_type": "code",
   "execution_count": 4,
   "metadata": {},
   "outputs": [
    {
     "name": "stdout",
     "output_type": "stream",
     "text": [
      "done\n"
     ]
    }
   ],
   "source": [
    "for ind in range (400000,450000):\n",
    "    long = nodata.iloc[ind]['Longitude']\n",
    "    lat = nodata.iloc[ind]['Latitude']\n",
    "    url = 'https://geo.fcc.gov/api/census/block/find?latitude={0}&longitude={1}&showall=true&format=json'.format(lat, long)\n",
    "    response = requests.get(url)\n",
    "    dataJSON = response.json()\n",
    "    data = dataJSON[\"Block\"]['FIPS']\n",
    "    nodata.at[ind, 'geoid'] = data\n",
    "print('done')"
   ]
  },
  {
   "cell_type": "code",
   "execution_count": 7,
   "metadata": {},
   "outputs": [
    {
     "name": "stdout",
     "output_type": "stream",
     "text": [
      "done\n"
     ]
    }
   ],
   "source": [
    "for ind in range (452682,500000):\n",
    "    long = nodata.iloc[ind]['Longitude']\n",
    "    lat = nodata.iloc[ind]['Latitude']\n",
    "    url = 'https://geo.fcc.gov/api/census/block/find?latitude={0}&longitude={1}&showall=true&format=json'.format(lat, long)\n",
    "    response = requests.get(url)\n",
    "    dataJSON = response.json()\n",
    "    data = dataJSON[\"Block\"]['FIPS']\n",
    "    nodata.at[ind, 'geoid'] = data\n",
    "print('done')"
   ]
  },
  {
   "cell_type": "code",
   "execution_count": 8,
   "metadata": {},
   "outputs": [],
   "source": [
    "nodata.to_csv(r'D:\\dataGasLeaks\\not_finished2.csv')"
   ]
  },
  {
   "cell_type": "code",
   "execution_count": 9,
   "metadata": {},
   "outputs": [
    {
     "name": "stdout",
     "output_type": "stream",
     "text": [
      "done\n"
     ]
    }
   ],
   "source": [
    "for ind in range (500000,550000):\n",
    "    long = nodata.iloc[ind]['Longitude']\n",
    "    lat = nodata.iloc[ind]['Latitude']\n",
    "    url = 'https://geo.fcc.gov/api/census/block/find?latitude={0}&longitude={1}&showall=true&format=json'.format(lat, long)\n",
    "    response = requests.get(url)\n",
    "    dataJSON = response.json()\n",
    "    data = dataJSON[\"Block\"]['FIPS']\n",
    "    nodata.at[ind, 'geoid'] = data\n",
    "print('done')"
   ]
  },
  {
   "cell_type": "code",
   "execution_count": 10,
   "metadata": {},
   "outputs": [],
   "source": [
    "nodata.to_csv(r'D:\\dataGasLeaks\\not_finished2.csv')"
   ]
  },
  {
   "cell_type": "code",
   "execution_count": 11,
   "metadata": {},
   "outputs": [
    {
     "name": "stdout",
     "output_type": "stream",
     "text": [
      "done\n"
     ]
    }
   ],
   "source": [
    "for ind in range (550000,600000):\n",
    "    long = nodata.iloc[ind]['Longitude']\n",
    "    lat = nodata.iloc[ind]['Latitude']\n",
    "    url = 'https://geo.fcc.gov/api/census/block/find?latitude={0}&longitude={1}&showall=true&format=json'.format(lat, long)\n",
    "    response = requests.get(url)\n",
    "    dataJSON = response.json()\n",
    "    data = dataJSON[\"Block\"]['FIPS']\n",
    "    nodata.at[ind, 'geoid'] = data\n",
    "print('done')"
   ]
  },
  {
   "cell_type": "code",
   "execution_count": 37,
   "metadata": {},
   "outputs": [],
   "source": [
    "nodata.to_csv(r'D:\\dataGasLeaks\\not_finished2.csv')"
   ]
  },
  {
   "cell_type": "code",
   "execution_count": null,
   "metadata": {},
   "outputs": [],
   "source": [
    "nodata = nodata[]"
   ]
  },
  {
   "cell_type": "code",
   "execution_count": null,
   "metadata": {},
   "outputs": [],
   "source": []
  },
  {
   "cell_type": "code",
   "execution_count": null,
   "metadata": {},
   "outputs": [],
   "source": []
  },
  {
   "cell_type": "code",
   "execution_count": 38,
   "metadata": {},
   "outputs": [
    {
     "name": "stderr",
     "output_type": "stream",
     "text": [
      "C:\\Users\\mskac\\Anaconda3\\lib\\site-packages\\IPython\\core\\interactiveshell.py:3146: DtypeWarning: Columns (3) have mixed types.Specify dtype option on import or set low_memory=False.\n",
      "  interactivity=interactivity, compiler=compiler, result=result)\n"
     ]
    }
   ],
   "source": [
    "data1 = pd.read_csv(r'D:\\dataGasLeaks\\not_finished1.csv')\n",
    "data2 = pd.read_csv(r'D:\\dataGasLeaks\\not_finished2.csv')"
   ]
  },
  {
   "cell_type": "code",
   "execution_count": 39,
   "metadata": {},
   "outputs": [
    {
     "data": {
      "text/plain": [
       "400000"
      ]
     },
     "execution_count": 39,
     "metadata": {},
     "output_type": "execute_result"
    }
   ],
   "source": [
    "len(data1[data1['geoid'].notna()])"
   ]
  },
  {
   "cell_type": "code",
   "execution_count": 40,
   "metadata": {},
   "outputs": [
    {
     "data": {
      "text/plain": [
       "242707"
      ]
     },
     "execution_count": 40,
     "metadata": {},
     "output_type": "execute_result"
    }
   ],
   "source": [
    "len(data2[data2['geoid'].notna()])"
   ]
  },
  {
   "cell_type": "code",
   "execution_count": 41,
   "metadata": {},
   "outputs": [],
   "source": [
    "data_missing = pd.concat([data1, data2])"
   ]
  },
  {
   "cell_type": "code",
   "execution_count": 42,
   "metadata": {},
   "outputs": [],
   "source": [
    "data_missing.to_csv(r'D:\\dataGasLeaks\\data_missing.csv')"
   ]
  },
  {
   "cell_type": "code",
   "execution_count": null,
   "metadata": {},
   "outputs": [],
   "source": []
  }
 ],
 "metadata": {
  "kernelspec": {
   "display_name": "Python 3",
   "language": "python",
   "name": "python3"
  },
  "language_info": {
   "codemirror_mode": {
    "name": "ipython",
    "version": 3
   },
   "file_extension": ".py",
   "mimetype": "text/x-python",
   "name": "python",
   "nbconvert_exporter": "python",
   "pygments_lexer": "ipython3",
   "version": "3.7.7"
  }
 },
 "nbformat": 4,
 "nbformat_minor": 4
}

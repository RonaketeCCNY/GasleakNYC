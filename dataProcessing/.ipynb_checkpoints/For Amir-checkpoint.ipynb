{
 "cells": [
  {
   "cell_type": "code",
   "execution_count": 7,
   "metadata": {},
   "outputs": [],
   "source": [
    "# retrieve geoids based on lat and long of each building\n",
    "\n",
    "import pandas as pd\n",
    "import json\n",
    "import requests\n",
    "from urllib.request import urlopen\n",
    "\n",
    "key = '05fcc51d368d71bce9d7627d3097d978'\n",
    "projectId = '82d5e815'"
   ]
  },
  {
   "cell_type": "code",
   "execution_count": 14,
   "metadata": {},
   "outputs": [
    {
     "data": {
      "text/plain": [
       "248452"
      ]
     },
     "execution_count": 14,
     "metadata": {},
     "output_type": "execute_result"
    }
   ],
   "source": [
    "# change the directory here\n",
    "nodata = pd.read_csv(r'D:\\dataGasLeaks\\Amirs_data_original.csv', low_memory=False)\n",
    "len(nodata)"
   ]
  },
  {
   "cell_type": "code",
   "execution_count": null,
   "metadata": {},
   "outputs": [],
   "source": [
    "for ind in range (len(nodata)):\n",
    "    long = nodata.iloc[ind]['Longitude']\n",
    "    lat = nodata.iloc[ind]['Latitude']\n",
    "    url = 'https://geo.fcc.gov/api/census/block/find?latitude={0}&longitude={1}&showall=true&format=json'.format(lat, long)\n",
    "    response = requests.get(url)\n",
    "    dataJSON = response.json()\n",
    "    data = dataJSON[\"Block\"]['FIPS']\n",
    "    nodata.at[ind, 'geoid'] = data\n",
    "print('done')"
   ]
  },
  {
   "cell_type": "code",
   "execution_count": 13,
   "metadata": {},
   "outputs": [],
   "source": [
    "# change directory here, please send this file to me\n",
    "nodata.to_csv(r'D:\\dataGasLeaks\\Amirs_data_ready.csv')"
   ]
  },
  {
   "cell_type": "code",
   "execution_count": null,
   "metadata": {},
   "outputs": [],
   "source": []
  }
 ],
 "metadata": {
  "kernelspec": {
   "display_name": "Python 3",
   "language": "python",
   "name": "python3"
  },
  "language_info": {
   "codemirror_mode": {
    "name": "ipython",
    "version": 3
   },
   "file_extension": ".py",
   "mimetype": "text/x-python",
   "name": "python",
   "nbconvert_exporter": "python",
   "pygments_lexer": "ipython3",
   "version": "3.7.7"
  }
 },
 "nbformat": 4,
 "nbformat_minor": 4
}
